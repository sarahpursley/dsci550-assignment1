{
 "cells": [
  {
   "cell_type": "code",
   "execution_count": null,
   "metadata": {},
   "outputs": [],
   "source": [
    "import os\n",
    "from email.parser import Parser\n",
    "import json\n",
    "\n",
    "# full corpus for local download if needed\n",
    "corpus_link = 'https://www.cs.cmu.edu/~./enron/'\n",
    "\n",
    "# local directory for full unzipped file, too large to upload to github\n",
    "rootdir = \"/Users/sarahpursley/Documents/maildir\"  # full Enron email directory\n",
    "\n",
    "# helper function to get the sample data we are using \n",
    "def get_sample_data(directory):\n",
    "    print(f'Opening from: {directory}')\n",
    "    print('Loading full email data...')\n",
    "    emails = []\n",
    "    for direct, sub_direct, filenames in os.walk(rootdir): # only look at sent emails (matching action of SENT spam)\n",
    "        for s in sub_direct:\n",
    "            if s == 'sent':\n",
    "                path = direct + \"/\" + s\n",
    "                for file in os.listdir(path):\n",
    "                    os.chdir(path)\n",
    "                    f = open(file, \"r\")\n",
    "                \n",
    "                    try:\n",
    "                        f = f.read()\n",
    "                        email = Parser().parsestr(f)\n",
    "                        emails.append(email)\n",
    "                    \n",
    "                    except UnicodeDecodeError:\n",
    "                        continue\n",
    "    print('Done!')                    \n",
    "    return emails\n"
   ]
  },
  {
   "cell_type": "code",
   "execution_count": null,
   "metadata": {},
   "outputs": [],
   "source": [
    "emails = get_sample_data(rootdir)"
   ]
  },
  {
   "cell_type": "code",
   "execution_count": null,
   "metadata": {},
   "outputs": [],
   "source": [
    "# for each sent email in total emails\n",
    "def get_content(full_email):\n",
    "    content = []\n",
    "    final = []\n",
    "    s = \" \"\n",
    "    for e in full_email:\n",
    "        if e != '': \n",
    "            content.append(e)\n",
    "\n",
    "    for c in content:\n",
    "        if '<' in c or '@' in c or ':' in c or '-' in c:\n",
    "            continue\n",
    "        else:\n",
    "            final.append(c)\n",
    "    return s.join(final).replace(\"  \", \" \")\n",
    "\n",
    "email_dict = {}\n",
    "for email in emails:\n",
    "    # create a dictionary \n",
    "    for key, value in email.items():\n",
    "        # append value to given key (items() spits out a key value format for 'From':, 'To':, 'cc:':, etc)\n",
    "        if key in email_dict:\n",
    "            email_dict[key].append(value)\n",
    "        else:\n",
    "            email_dict[key] = [value]\n",
    "    \n",
    "    # use get_payload to get body of the email\n",
    "    full_email = email.get_payload(decode = True).decode(\"utf-8\") \n",
    "    full_email = full_email.splitlines()\n",
    "    email_contents = get_content(full_email)\n",
    "    \n",
    "    #append email content \n",
    "    if 'content' in email_dict:\n",
    "        email_dict['content'].append(email_contents)\n",
    "\n",
    "    else:\n",
    "        email_dict['content'] = [email_contents]\n",
    "\n",
    "output = email_dict"
   ]
  },
  {
   "cell_type": "code",
   "execution_count": null,
   "metadata": {},
   "outputs": [],
   "source": [
    "# output sample file\n",
    "path = \"/Users/sarahpursley/Documents\"\n",
    "os.chdir(path)\n",
    "\n",
    "import json\n",
    "with open('enron_sample_1.json', 'w') as f:\n",
    "    json.dump(output, f)\n",
    "    print(f\"finished writing to: {os.getcwd()}\")"
   ]
  }
 ],
 "metadata": {
  "kernelspec": {
   "display_name": "Python 3",
   "language": "python",
   "name": "python3"
  },
  "language_info": {
   "codemirror_mode": {
    "name": "ipython",
    "version": 3
   },
   "file_extension": ".py",
   "mimetype": "text/x-python",
   "name": "python",
   "nbconvert_exporter": "python",
   "pygments_lexer": "ipython3",
   "version": "3.8.3"
  }
 },
 "nbformat": 4,
 "nbformat_minor": 4
}
